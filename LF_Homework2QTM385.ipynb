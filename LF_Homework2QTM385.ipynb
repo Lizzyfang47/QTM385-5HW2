{
  "nbformat": 4,
  "nbformat_minor": 0,
  "metadata": {
    "kernelspec": {
      "display_name": "Python 3",
      "language": "python",
      "name": "python3"
    },
    "language_info": {
      "codemirror_mode": {
        "name": "ipython",
        "version": 3
      },
      "file_extension": ".py",
      "mimetype": "text/x-python",
      "name": "python",
      "nbconvert_exporter": "python",
      "pygments_lexer": "ipython3",
      "version": "3.8.5"
    },
    "colab": {
      "name": "LF_Homework2QTM385.ipynb",
      "provenance": [],
      "collapsed_sections": []
    }
  },
  "cells": [
    {
      "cell_type": "markdown",
      "metadata": {
        "id": "JkW10MisuckR"
      },
      "source": [
        "# QTM 385\n",
        "\n",
        "***\n",
        "\n",
        "## Homework 2\n",
        "\n",
        "Student: 2325073"
      ]
    },
    {
      "cell_type": "markdown",
      "metadata": {
        "id": "Bl_LyxSEuckS"
      },
      "source": [
        "In this homework we will create a text scrambler. The idea is that the user is going to input some text, and we will scramble the letters in the text. Each question will guide you up to the desired result."
      ]
    },
    {
      "cell_type": "markdown",
      "metadata": {
        "id": "iKYnXhEUuckS"
      },
      "source": [
        "\n",
        "***\n",
        "\n",
        "### Question 1\n",
        "\n",
        "Suppose that you have a string `S = 'My beautiful string'`. Show that you can transform your string into a list by applying the command `list(S)` to it."
      ]
    },
    {
      "cell_type": "code",
      "metadata": {
        "colab": {
          "base_uri": "https://localhost:8080/"
        },
        "id": "w9PkTqYPuckS",
        "outputId": "421b7975-6934-4353-e961-c0af47f9c512"
      },
      "source": [
        "# Your answer here\n",
        "S = 'My beautiful string'\n",
        "list(S)"
      ],
      "execution_count": 18,
      "outputs": [
        {
          "output_type": "execute_result",
          "data": {
            "text/plain": [
              "['M',\n",
              " 'y',\n",
              " ' ',\n",
              " 'b',\n",
              " 'e',\n",
              " 'a',\n",
              " 'u',\n",
              " 't',\n",
              " 'i',\n",
              " 'f',\n",
              " 'u',\n",
              " 'l',\n",
              " ' ',\n",
              " 's',\n",
              " 't',\n",
              " 'r',\n",
              " 'i',\n",
              " 'n',\n",
              " 'g']"
            ]
          },
          "metadata": {},
          "execution_count": 18
        }
      ]
    },
    {
      "cell_type": "markdown",
      "metadata": {
        "id": "OfL2VBtquckT"
      },
      "source": [
        "\n",
        "***\n",
        "\n",
        "### Question 2\n",
        "\n",
        "If you have a list, you can put the elements together forming a string if you do the following:\n",
        "\n",
        "```\n",
        "L = ['1', '2', '3', '4', '5', '6']\n",
        "''.join(L)\n",
        "```\n",
        "\n",
        "Try for the list in this example. Try also for the list below:\n",
        "\n",
        "```\n",
        "L2 = ['a', '2', 'c', '4', 'e', '6']\n",
        "```"
      ]
    },
    {
      "cell_type": "code",
      "metadata": {
        "colab": {
          "base_uri": "https://localhost:8080/",
          "height": 35
        },
        "id": "JJqkAdfmuckT",
        "outputId": "a2a0ca6a-43d3-49ca-e315-d609e67ac4fe"
      },
      "source": [
        "# Your answer here\n",
        "L = ['1', '2', '3', '4', '5', '6']\n",
        "''.join(L)"
      ],
      "execution_count": 19,
      "outputs": [
        {
          "output_type": "execute_result",
          "data": {
            "application/vnd.google.colaboratory.intrinsic+json": {
              "type": "string"
            },
            "text/plain": [
              "'123456'"
            ]
          },
          "metadata": {},
          "execution_count": 19
        }
      ]
    },
    {
      "cell_type": "code",
      "metadata": {
        "colab": {
          "base_uri": "https://localhost:8080/",
          "height": 35
        },
        "id": "Q05pO5ST5RZL",
        "outputId": "51ae34cd-8930-4a01-aabc-4f3570f3f7ca"
      },
      "source": [
        "L2 = ['a', '2', 'c', '4', 'e', '6']\n",
        "''.join(L2)"
      ],
      "execution_count": 20,
      "outputs": [
        {
          "output_type": "execute_result",
          "data": {
            "application/vnd.google.colaboratory.intrinsic+json": {
              "type": "string"
            },
            "text/plain": [
              "'a2c4e6'"
            ]
          },
          "metadata": {},
          "execution_count": 20
        }
      ]
    },
    {
      "cell_type": "markdown",
      "metadata": {
        "id": "ZL1_1P3-uckT"
      },
      "source": [
        "\n",
        "***\n",
        "\n",
        "### Question 3\n",
        "\n",
        "If you have a list of objects, we learned how to select one using the function `choice` in the `random` module. This module has also a function `sample`, where you can select one or more elements from a list or tuple. Suppose we have a list `L` with elements, and that we imported the module as `rd` (see previous homework). The syntax for selecting three elements there is:\n",
        "\n",
        "```\n",
        "rd.sample(L, 3)\n",
        "```\n",
        "\n",
        "Now, from the following list:\n",
        "\n",
        "```\n",
        "preferred_food = ['pizza', 'ice cream', 'salad']\n",
        "```\n",
        "\n",
        "Select two favorite foods to eat."
      ]
    },
    {
      "cell_type": "code",
      "metadata": {
        "colab": {
          "base_uri": "https://localhost:8080/"
        },
        "id": "RLsCxwEfuckU",
        "outputId": "a3898f22-a93a-4c2a-db27-de94b6c9c80a"
      },
      "source": [
        "# Your answer here\n",
        "import random as rd\n",
        "preferred_food = ['pizza', 'ice cream', 'salad']\n",
        "rd.sample(preferred_food,2)"
      ],
      "execution_count": 21,
      "outputs": [
        {
          "output_type": "execute_result",
          "data": {
            "text/plain": [
              "['ice cream', 'salad']"
            ]
          },
          "metadata": {},
          "execution_count": 21
        }
      ]
    },
    {
      "cell_type": "markdown",
      "metadata": {
        "id": "jehHzaXSuckU"
      },
      "source": [
        "\n",
        "***\n",
        "\n",
        "### Question 4\n",
        "\n",
        "To get the user's input, we can use the function `input()`. The syntax is simple: `variable_saving = input('Prompt here: ')`. Use the function below to save the input in the variable `my_entry`. As a prompt, use the phrase 'Enter your text here: '. Print the text typed by the user."
      ]
    },
    {
      "cell_type": "code",
      "metadata": {
        "colab": {
          "base_uri": "https://localhost:8080/"
        },
        "id": "ysW3dVtQuckU",
        "outputId": "96e5898b-a700-4333-ae26-205592974f3d"
      },
      "source": [
        "# Your answer here\n",
        "my_entry = input('Enter your text here: ')\n",
        "print(my_entry)"
      ],
      "execution_count": 22,
      "outputs": [
        {
          "output_type": "stream",
          "name": "stdout",
          "text": [
            "Enter your text here: sk\n",
            "sk\n"
          ]
        }
      ]
    },
    {
      "cell_type": "markdown",
      "metadata": {
        "id": "M3c6ZciWuckU"
      },
      "source": [
        "\n",
        "***\n",
        "\n",
        "### Question 5\n",
        "\n",
        "Now, build your scrambler. Assume the user will enter a word, or a name, or even a phrase. Scramble it and return the input scrambled after the user type it."
      ]
    },
    {
      "cell_type": "code",
      "metadata": {
        "colab": {
          "base_uri": "https://localhost:8080/"
        },
        "id": "WHj2fhrvuckU",
        "outputId": "d3ba74f1-025f-4b46-9ce5-0c23faa9c53d"
      },
      "source": [
        "# Your answer here\n",
        "original_entry = input('Enter the text you want to scamble here: ')\n",
        "print(''.join(rd.sample(list(original_entry),len(original_entry))))"
      ],
      "execution_count": 24,
      "outputs": [
        {
          "output_type": "stream",
          "name": "stdout",
          "text": [
            "Enter the text you want to scamble here: bob is hungry\n",
            "uribhony b sg\n"
          ]
        }
      ]
    },
    {
      "cell_type": "markdown",
      "metadata": {
        "id": "MavoLsyJuckV"
      },
      "source": [
        "**That's all, folks!**"
      ]
    }
  ]
}